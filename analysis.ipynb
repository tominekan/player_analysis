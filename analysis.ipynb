{
 "cells": [
  {
   "cell_type": "markdown",
   "id": "c7e9b63c",
   "metadata": {},
   "source": [
    "# Part 1\n",
    "\n",
    "Play around with the data and try to see some really strong correlations"
   ]
  },
  {
   "cell_type": "code",
   "execution_count": null,
   "id": "d5b837d7",
   "metadata": {},
   "outputs": [],
   "source": [
    "import pandas as pd\n",
    "\n",
    "nba_df = pd.read_csv(\"database_24_25.csv\")"
   ]
  }
 ],
 "metadata": {
  "kernelspec": {
   "display_name": ".venv",
   "language": "python",
   "name": "python3"
  },
  "language_info": {
   "name": "python",
   "version": "3.11.5"
  }
 },
 "nbformat": 4,
 "nbformat_minor": 5
}
